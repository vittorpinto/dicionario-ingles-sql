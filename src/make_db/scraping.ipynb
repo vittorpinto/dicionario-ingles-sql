{
 "cells": [
  {
   "cell_type": "code",
   "execution_count": 1,
   "metadata": {},
   "outputs": [],
   "source": [
    "\"\"\" Importing bibs \"\"\"\n",
    "import requests\n",
    "from bs4 import BeautifulSoup\n",
    "import csv\n",
    "import html5lib"
   ]
  },
  {
   "cell_type": "code",
   "execution_count": 11,
   "metadata": {},
   "outputs": [],
   "source": [
    "\"\"\" Constants \"\"\"\n",
    "letters = \"abcdefghijklmnopqrstuvwxyz\"\n",
    "outputFile = \"./../../data/csv/words.csv\"\n",
    "urlStart = f\"https://www.mso.anu.edu.au/%7Eralph/OPTED/v003/wb1913_\"\n",
    "urlEnd = f\".html\"\n"
   ]
  },
  {
   "cell_type": "code",
   "execution_count": 3,
   "metadata": {},
   "outputs": [],
   "source": [
    "\"\"\" Functions \"\"\"\n",
    "def get_url(letter):\n",
    "    return urlStart + letter + urlEnd"
   ]
  },
  {
   "cell_type": "code",
   "execution_count": 12,
   "metadata": {},
   "outputs": [],
   "source": [
    "\"\"\" Main \"\"\"\n",
    "with open(outputFile, \"w\", newline=\"\", encoding=\"utf-8\") as f:\n",
    "\n",
    "    writer = csv.writer(f, quoting=csv.QUOTE_NONNUMERIC)\n",
    "\n",
    "    writer.writerow([\"COUNT\", \"WORDS\", \"POS\", \"MEANING\"])\n",
    "\n",
    "    count = 0\n",
    "\n",
    "    visited = set()\n",
    "\n",
    "    for letter in letters:\n",
    "\n",
    "        url = get_url(letter)\n",
    "\n",
    "        if url not in visited:\n",
    "\n",
    "            visited.add(url)\n",
    "\n",
    "            res = requests.get(url)\n",
    "\n",
    "            soup = BeautifulSoup(res.text, \"html5lib\") \n",
    "\n",
    "            words = soup.find_all(\"p\")\n",
    "            \n",
    "            for word in words:\n",
    "\n",
    "                count += 1\n",
    "\n",
    "                try:\n",
    "                    word_text = word.b.text\n",
    "\n",
    "                except AttributeError:\n",
    "                    word_text = \"a\"\n",
    "\n",
    "                try:\n",
    "                    pos_text = word.i.text\n",
    "\n",
    "                except AttributeError:\n",
    "                    pos_text = \"b\"\n",
    "\n",
    "            \n",
    "                meaning_text = (\n",
    "                    word.text.replace(word_text, \"\", 1)\n",
    "                    .replace(pos_text, \"\")\n",
    "                    .replace(\"()\", \"\")\n",
    "                    .strip()\n",
    "                )                \n",
    "                \n",
    "                writer.writerow([count, word_text, pos_text, meaning_text])"
   ]
  }
 ],
 "metadata": {
  "kernelspec": {
   "display_name": "Python 3",
   "language": "python",
   "name": "python3"
  },
  "language_info": {
   "codemirror_mode": {
    "name": "ipython",
    "version": 3
   },
   "file_extension": ".py",
   "mimetype": "text/x-python",
   "name": "python",
   "nbconvert_exporter": "python",
   "pygments_lexer": "ipython3",
   "version": "3.12.0"
  }
 },
 "nbformat": 4,
 "nbformat_minor": 2
}
